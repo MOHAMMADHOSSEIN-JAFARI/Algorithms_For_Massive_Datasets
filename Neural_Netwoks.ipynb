{
  "nbformat": 4,
  "nbformat_minor": 0,
  "metadata": {
    "colab": {
      "provenance": [],
      "collapsed_sections": [],
      "mount_file_id": "1IAG7hNbwra9kOW6Wv4sLydgYyovzs_PH",
      "authorship_tag": "ABX9TyNc1uGOU4w+XpObL46M7TSa",
      "include_colab_link": true
    },
    "kernelspec": {
      "name": "python3",
      "display_name": "Python 3"
    },
    "language_info": {
      "name": "python"
    }
  },
  "cells": [
    {
      "cell_type": "markdown",
      "metadata": {
        "id": "view-in-github",
        "colab_type": "text"
      },
      "source": [
        "<a href=\"https://colab.research.google.com/github/MOHAMMADHOSSEIN-JAFARI/Algorithms_For_Massive_Datasets/blob/master/Neural_Netwoks.ipynb\" target=\"_parent\"><img src=\"https://colab.research.google.com/assets/colab-badge.svg\" alt=\"Open In Colab\"/></a>"
      ]
    },
    {
      "cell_type": "markdown",
      "source": [
        "Neural Networks\n",
        "\n",
        "\n",
        "\n"
      ],
      "metadata": {
        "id": "wqcqGRBKaHJp"
      }
    },
    {
      "cell_type": "code",
      "source": [
        "# Importing Data"
      ],
      "metadata": {
        "id": "sm6BD8w2aS_k"
      },
      "execution_count": null,
      "outputs": []
    },
    {
      "cell_type": "code",
      "source": [
        "import tensorflow as tf"
      ],
      "metadata": {
        "id": "UhhvjTsWrHJL"
      },
      "execution_count": 1,
      "outputs": []
    },
    {
      "cell_type": "code",
      "source": [
        "print(tf.__version__)"
      ],
      "metadata": {
        "colab": {
          "base_uri": "https://localhost:8080/"
        },
        "id": "MKT-K1cyrR8Y",
        "outputId": "dfd8e5a6-a01b-4f85-ee5c-69c92561bebc"
      },
      "execution_count": 2,
      "outputs": [
        {
          "output_type": "stream",
          "name": "stdout",
          "text": [
            "2.9.2\n"
          ]
        }
      ]
    },
    {
      "cell_type": "code",
      "source": [],
      "metadata": {
        "id": "yncYfzI0rZjw"
      },
      "execution_count": null,
      "outputs": []
    }
  ]
}
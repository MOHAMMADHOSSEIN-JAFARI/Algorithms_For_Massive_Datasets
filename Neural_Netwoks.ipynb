{
  "nbformat": 4,
  "nbformat_minor": 0,
  "metadata": {
    "colab": {
      "provenance": [],
      "collapsed_sections": [],
      "authorship_tag": "ABX9TyM7TL5fxgRN+CLJuYuT68QJ",
      "include_colab_link": true
    },
    "kernelspec": {
      "name": "python3",
      "display_name": "Python 3"
    },
    "language_info": {
      "name": "python"
    }
  },
  "cells": [
    {
      "cell_type": "markdown",
      "metadata": {
        "id": "view-in-github",
        "colab_type": "text"
      },
      "source": [
        "<a href=\"https://colab.research.google.com/github/MOHAMMADHOSSEIN-JAFARI/Algorithms_For_Massive_Datasets/blob/master/Neural_Netwoks.ipynb\" target=\"_parent\"><img src=\"https://colab.research.google.com/assets/colab-badge.svg\" alt=\"Open In Colab\"/></a>"
      ]
    },
    {
      "cell_type": "markdown",
      "source": [
        "Neural Networks\n",
        "\n",
        "\n",
        "\n"
      ],
      "metadata": {
        "id": "wqcqGRBKaHJp"
      }
    },
    {
      "cell_type": "code",
      "source": [
        "# Importing Data"
      ],
      "metadata": {
        "id": "sm6BD8w2aS_k"
      },
      "execution_count": null,
      "outputs": []
    }
  ]
}
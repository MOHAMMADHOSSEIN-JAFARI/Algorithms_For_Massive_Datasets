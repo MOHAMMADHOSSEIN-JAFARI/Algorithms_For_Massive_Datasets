{
  "nbformat": 4,
  "nbformat_minor": 0,
  "metadata": {
    "colab": {
      "provenance": [],
      "mount_file_id": "1IAG7hNbwra9kOW6Wv4sLydgYyovzs_PH",
      "authorship_tag": "ABX9TyN4ySPF8BEK5TnrVYJ7qiJb",
      "include_colab_link": true
    },
    "kernelspec": {
      "name": "python3",
      "display_name": "Python 3"
    },
    "language_info": {
      "name": "python"
    },
    "accelerator": "GPU",
    "gpuClass": "standard"
  },
  "cells": [
    {
      "cell_type": "markdown",
      "metadata": {
        "id": "view-in-github",
        "colab_type": "text"
      },
      "source": [
        "<a href=\"https://colab.research.google.com/github/MOHAMMADHOSSEIN-JAFARI/Algorithms_For_Massive_Datasets/blob/master/Neural_Netwoks_Image_Classification.ipynb\" target=\"_parent\"><img src=\"https://colab.research.google.com/assets/colab-badge.svg\" alt=\"Open In Colab\"/></a>"
      ]
    },
    {
      "cell_type": "markdown",
      "source": [
        "Neural Networks\n",
        "\n",
        "\n",
        "\n"
      ],
      "metadata": {
        "id": "wqcqGRBKaHJp"
      }
    },
    {
      "cell_type": "code",
      "source": [
        "# Importing Data"
      ],
      "metadata": {
        "id": "sm6BD8w2aS_k"
      },
      "execution_count": 1,
      "outputs": []
    },
    {
      "cell_type": "code",
      "source": [
        "import tensorflow as tf"
      ],
      "metadata": {
        "id": "UhhvjTsWrHJL"
      },
      "execution_count": 2,
      "outputs": []
    },
    {
      "cell_type": "code",
      "source": [
        "print(tf.__version__)"
      ],
      "metadata": {
        "colab": {
          "base_uri": "https://localhost:8080/"
        },
        "id": "MKT-K1cyrR8Y",
        "outputId": "f1cf664c-aae3-4f2c-f2bf-932b03a79431"
      },
      "execution_count": 3,
      "outputs": [
        {
          "output_type": "stream",
          "name": "stdout",
          "text": [
            "2.9.2\n"
          ]
        }
      ]
    },
    {
      "cell_type": "code",
      "source": [
        "from tensorflow import keras\n",
        "from tensorflow.keras import layers\n",
        "from tensorflow.keras.preprocessing.image import ImageDataGenerator\n"
      ],
      "metadata": {
        "id": "yncYfzI0rZjw"
      },
      "execution_count": 5,
      "outputs": []
    },
    {
      "cell_type": "code",
      "source": [
        "image_height = 28\n",
        "image_width = 28\n",
        "batch_size = 1000"
      ],
      "metadata": {
        "id": "hTPty_jBr6yD"
      },
      "execution_count": 9,
      "outputs": []
    },
    {
      "cell_type": "code",
      "source": [
        "model= keras.Sequential([\n",
        "    layers.Input((28,28,1)),\n",
        "    layers.Conv2D(16,3,padding= 'same'),\n",
        "    layers.Conv2D(32,3,padding= 'same'),\n",
        "    layers.MaxPooling2D(),\n",
        "    layers.Flatten(),\n",
        "    layers.Dense(2),\n",
        "\n",
        "])"
      ],
      "metadata": {
        "id": "daXjUQMRrzPI"
      },
      "execution_count": 10,
      "outputs": []
    },
    {
      "cell_type": "code",
      "source": [
        "#cat_train= tf.keras.preprocessing.image_dataset_from_directory\n",
        "#https://www.tensorflow.org/api_docs/python/tf/keras/utils/image_dataset_from_directory\n",
        "#\"https://www.youtube.com/watch?v=q7ZuZ8ZOErE\""
      ],
      "metadata": {
        "id": "tZNYIjUNtWYy"
      },
      "execution_count": 17,
      "outputs": []
    },
    {
      "cell_type": "code",
      "source": [
        "#how to laod an image with tensorflow\n",
        "path = '/content/drive/MyDrive/Machie_Learning_Project/0.jpg'\n",
        "Load_image = tf.keras.preprocessing.image.load_img(path)\n",
        "print(Load_image)"
      ],
      "metadata": {
        "colab": {
          "base_uri": "https://localhost:8080/"
        },
        "id": "D83R3kQVs9cC",
        "outputId": "f0609f2c-b91f-4213-bb19-96a6062c1122"
      },
      "execution_count": 26,
      "outputs": [
        {
          "output_type": "stream",
          "name": "stdout",
          "text": [
            "<PIL.JpegImagePlugin.JpegImageFile image mode=RGB size=500x375 at 0x7F0E8C5A0E90>\n"
          ]
        }
      ]
    },
    {
      "cell_type": "code",
      "source": [
        "#https://www.youtube.com/watch?v=oW89weRFJj8"
      ],
      "metadata": {
        "id": "89vaKdmH3MNl"
      },
      "execution_count": 26,
      "outputs": []
    },
    {
      "cell_type": "code",
      "source": [
        "type(Load_image)"
      ],
      "metadata": {
        "colab": {
          "base_uri": "https://localhost:8080/"
        },
        "id": "0mpicOTJ3Y1_",
        "outputId": "a89517c7-bc01-4fd3-e0c6-352e7662371f"
      },
      "execution_count": 20,
      "outputs": [
        {
          "output_type": "execute_result",
          "data": {
            "text/plain": [
              "PIL.JpegImagePlugin.JpegImageFile"
            ]
          },
          "metadata": {},
          "execution_count": 20
        }
      ]
    },
    {
      "cell_type": "code",
      "source": [
        "print(Load_image)"
      ],
      "metadata": {
        "colab": {
          "base_uri": "https://localhost:8080/"
        },
        "id": "PpukQmO63iKP",
        "outputId": "e273465a-e3c3-4f40-a9fc-6b3a29690367"
      },
      "execution_count": 21,
      "outputs": [
        {
          "output_type": "stream",
          "name": "stdout",
          "text": [
            "<PIL.JpegImagePlugin.JpegImageFile image mode=RGB size=500x375 at 0x7F0EF33A3850>\n"
          ]
        }
      ]
    }
  ]
}
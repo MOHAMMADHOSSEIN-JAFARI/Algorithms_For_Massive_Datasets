{
  "nbformat": 4,
  "nbformat_minor": 0,
  "metadata": {
    "colab": {
      "provenance": [],
      "mount_file_id": "1IAG7hNbwra9kOW6Wv4sLydgYyovzs_PH",
      "authorship_tag": "ABX9TyO8sDFh5sGRY0L3gWUyC4rt",
      "include_colab_link": true
    },
    "kernelspec": {
      "name": "python3",
      "display_name": "Python 3"
    },
    "language_info": {
      "name": "python"
    },
    "accelerator": "GPU",
    "gpuClass": "standard"
  },
  "cells": [
    {
      "cell_type": "markdown",
      "metadata": {
        "id": "view-in-github",
        "colab_type": "text"
      },
      "source": [
        "<a href=\"https://colab.research.google.com/github/MOHAMMADHOSSEIN-JAFARI/Algorithms_For_Massive_Datasets/blob/master/Neural_Netwoks_Image_Classification.ipynb\" target=\"_parent\"><img src=\"https://colab.research.google.com/assets/colab-badge.svg\" alt=\"Open In Colab\"/></a>"
      ]
    },
    {
      "cell_type": "markdown",
      "source": [
        "Neural Networks\n",
        "\n",
        "\n",
        "\n"
      ],
      "metadata": {
        "id": "wqcqGRBKaHJp"
      }
    },
    {
      "cell_type": "code",
      "source": [
        "# Importing Data"
      ],
      "metadata": {
        "id": "sm6BD8w2aS_k"
      },
      "execution_count": 1,
      "outputs": []
    },
    {
      "cell_type": "code",
      "source": [
        "import tensorflow as tf"
      ],
      "metadata": {
        "id": "UhhvjTsWrHJL"
      },
      "execution_count": 2,
      "outputs": []
    },
    {
      "cell_type": "code",
      "source": [
        "print(tf.__version__)"
      ],
      "metadata": {
        "colab": {
          "base_uri": "https://localhost:8080/"
        },
        "id": "MKT-K1cyrR8Y",
        "outputId": "f1cf664c-aae3-4f2c-f2bf-932b03a79431"
      },
      "execution_count": 3,
      "outputs": [
        {
          "output_type": "stream",
          "name": "stdout",
          "text": [
            "2.9.2\n"
          ]
        }
      ]
    },
    {
      "cell_type": "code",
      "source": [
        "from tensorflow import keras\n",
        "from tensorflow.keras import layers\n",
        "from tensorflow.keras.preprocessing.image import ImageDataGenerator\n"
      ],
      "metadata": {
        "id": "yncYfzI0rZjw"
      },
      "execution_count": 5,
      "outputs": []
    },
    {
      "cell_type": "code",
      "source": [
        "image_height = 28\n",
        "image_width = 28\n",
        "batch_size = 1000"
      ],
      "metadata": {
        "id": "hTPty_jBr6yD"
      },
      "execution_count": 9,
      "outputs": []
    },
    {
      "cell_type": "code",
      "source": [
        "model= keras.Sequential([\n",
        "    layers.Input((28,28,1)),\n",
        "    layers.Conv2D(16,3,padding= 'same'),\n",
        "    layers.Conv2D(32,3,padding= 'same'),\n",
        "    layers.MaxPooling2D(),\n",
        "    layers.Flatten(),\n",
        "    layers.Dense(2),\n",
        "\n",
        "])"
      ],
      "metadata": {
        "id": "daXjUQMRrzPI"
      },
      "execution_count": 10,
      "outputs": []
    },
    {
      "cell_type": "code",
      "source": [
        "#cat_train= tf.keras.preprocessing.image_dataset_from_directory\n",
        "#https://www.tensorflow.org/api_docs/python/tf/keras/utils/image_dataset_from_directory\n"
      ],
      "metadata": {
        "colab": {
          "base_uri": "https://localhost:8080/",
          "height": 132
        },
        "id": "tZNYIjUNtWYy",
        "outputId": "3f271b17-bd0a-4bc1-d4e9-08e8dcd1f2ee"
      },
      "execution_count": 16,
      "outputs": [
        {
          "output_type": "error",
          "ename": "SyntaxError",
          "evalue": "ignored",
          "traceback": [
            "\u001b[0;36m  File \u001b[0;32m\"<ipython-input-16-231f76607c55>\"\u001b[0;36m, line \u001b[0;32m3\u001b[0m\n\u001b[0;31m    batch_size = batch_size\u001b[0m\n\u001b[0m             ^\u001b[0m\n\u001b[0;31mSyntaxError\u001b[0m\u001b[0;31m:\u001b[0m invalid syntax\n"
          ]
        }
      ]
    },
    {
      "cell_type": "code",
      "source": [
        "cat_validation= cat_train= tf.keras.preprocessing.image_dataset_from_directory(\n",
        "    '/content/drive/MyDrive/Machie_Learning_Project/CatsDogs/CatsDogs/Cats'\n",
        "    labels= 'inferred',\n",
        "    label_mode = 'int',\n",
        "    color_mode = 'grayscale',\n",
        "    batch_size = batch_size\n",
        "    image_size= (img_height, img_width),\n",
        "    shuffle = True,\n",
        "    seed = 123\n",
        "    validation_split = 0.1, \n",
        "    subset = 'training'\n",
        "\n",
        "\n",
        ")"
      ],
      "metadata": {
        "id": "D83R3kQVs9cC"
      },
      "execution_count": null,
      "outputs": []
    }
  ]
}
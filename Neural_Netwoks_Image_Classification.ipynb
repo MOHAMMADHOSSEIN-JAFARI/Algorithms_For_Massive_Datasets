{
  "nbformat": 4,
  "nbformat_minor": 0,
  "metadata": {
    "colab": {
      "provenance": [],
      "mount_file_id": "1IAG7hNbwra9kOW6Wv4sLydgYyovzs_PH",
      "authorship_tag": "ABX9TyPtqME3GalID+NnUEZGNNDR",
      "include_colab_link": true
    },
    "kernelspec": {
      "name": "python3",
      "display_name": "Python 3"
    },
    "language_info": {
      "name": "python"
    },
    "accelerator": "GPU",
    "gpuClass": "standard"
  },
  "cells": [
    {
      "cell_type": "markdown",
      "metadata": {
        "id": "view-in-github",
        "colab_type": "text"
      },
      "source": [
        "<a href=\"https://colab.research.google.com/github/MOHAMMADHOSSEIN-JAFARI/Algorithms_For_Massive_Datasets/blob/master/Neural_Netwoks_Image_Classification.ipynb\" target=\"_parent\"><img src=\"https://colab.research.google.com/assets/colab-badge.svg\" alt=\"Open In Colab\"/></a>"
      ]
    },
    {
      "cell_type": "markdown",
      "source": [
        "Neural Networks\n",
        "\n",
        "\n",
        "\n"
      ],
      "metadata": {
        "id": "wqcqGRBKaHJp"
      }
    },
    {
      "cell_type": "code",
      "source": [
        "# Importing Data"
      ],
      "metadata": {
        "id": "sm6BD8w2aS_k"
      },
      "execution_count": 20,
      "outputs": []
    },
    {
      "cell_type": "code",
      "source": [
        "import tensorflow as tf\n",
        "import numpy as np\n",
        "import PIL"
      ],
      "metadata": {
        "id": "UhhvjTsWrHJL"
      },
      "execution_count": 21,
      "outputs": []
    },
    {
      "cell_type": "code",
      "source": [
        "print(tf.__version__)"
      ],
      "metadata": {
        "colab": {
          "base_uri": "https://localhost:8080/"
        },
        "id": "MKT-K1cyrR8Y",
        "outputId": "099b76a3-a8f8-4293-eb7a-c45a021bcd9c"
      },
      "execution_count": 22,
      "outputs": [
        {
          "output_type": "stream",
          "name": "stdout",
          "text": [
            "2.9.2\n"
          ]
        }
      ]
    },
    {
      "cell_type": "code",
      "source": [
        "from tensorflow import keras\n",
        "from tensorflow.keras import layers\n",
        "from tensorflow.keras.preprocessing.image import ImageDataGenerator\n"
      ],
      "metadata": {
        "id": "yncYfzI0rZjw"
      },
      "execution_count": 23,
      "outputs": []
    },
    {
      "cell_type": "code",
      "source": [
        "#cat_train= tf.keras.preprocessing.image_dataset_from_directory\n",
        "#https://www.tensorflow.org/api_docs/python/tf/keras/utils/image_dataset_from_directory\n",
        "#\"https://www.youtube.com/watch?v=q7ZuZ8ZOErE\""
      ],
      "metadata": {
        "id": "tZNYIjUNtWYy"
      },
      "execution_count": 24,
      "outputs": []
    },
    {
      "cell_type": "code",
      "source": [
        "#how to laod an image with tensorflow\n",
        "path = '/content/drive/MyDrive/Machie_Learning_Project/0.jpg'\n",
        "Load_image = tf.keras.preprocessing.image.load_img(path)\n",
        "print(Load_image)\n"
      ],
      "metadata": {
        "colab": {
          "base_uri": "https://localhost:8080/"
        },
        "id": "D83R3kQVs9cC",
        "outputId": "9b039965-4b0c-457a-dd8e-65a62888e19f"
      },
      "execution_count": 25,
      "outputs": [
        {
          "output_type": "stream",
          "name": "stdout",
          "text": [
            "<PIL.JpegImagePlugin.JpegImageFile image mode=RGB size=500x375 at 0x7F060333CE10>\n"
          ]
        }
      ]
    },
    {
      "cell_type": "code",
      "source": [
        "#https://www.youtube.com/watch?v=oW89weRFJj8"
      ],
      "metadata": {
        "id": "89vaKdmH3MNl"
      },
      "execution_count": 26,
      "outputs": []
    },
    {
      "cell_type": "code",
      "source": [
        "type(Load_image)"
      ],
      "metadata": {
        "colab": {
          "base_uri": "https://localhost:8080/"
        },
        "id": "0mpicOTJ3Y1_",
        "outputId": "8774eaf7-2d29-4609-b689-65ee2dc56898"
      },
      "execution_count": 27,
      "outputs": [
        {
          "output_type": "execute_result",
          "data": {
            "text/plain": [
              "PIL.JpegImagePlugin.JpegImageFile"
            ]
          },
          "metadata": {},
          "execution_count": 27
        }
      ]
    },
    {
      "cell_type": "code",
      "source": [
        "print(Load_image)"
      ],
      "metadata": {
        "colab": {
          "base_uri": "https://localhost:8080/"
        },
        "id": "PpukQmO63iKP",
        "outputId": "44665cf2-d0a9-477f-cd25-b36d6ef27929"
      },
      "execution_count": 28,
      "outputs": [
        {
          "output_type": "stream",
          "name": "stdout",
          "text": [
            "<PIL.JpegImagePlugin.JpegImageFile image mode=RGB size=500x375 at 0x7F060333CE10>\n"
          ]
        }
      ]
    },
    {
      "cell_type": "code",
      "source": [
        "I = np.asarray(Load_image)\n"
      ],
      "metadata": {
        "id": "gaU0f-59MSeD"
      },
      "execution_count": 29,
      "outputs": []
    },
    {
      "cell_type": "code",
      "source": [
        "print(I)"
      ],
      "metadata": {
        "colab": {
          "base_uri": "https://localhost:8080/"
        },
        "id": "C8dFErvSNUUF",
        "outputId": "781206ff-4cf7-46da-c88d-473aa3126e83"
      },
      "execution_count": 30,
      "outputs": [
        {
          "output_type": "stream",
          "name": "stdout",
          "text": [
            "[[[203 164  87]\n",
            "  [203 164  87]\n",
            "  [204 165  88]\n",
            "  ...\n",
            "  [240 201 122]\n",
            "  [239 200 121]\n",
            "  [238 199 120]]\n",
            "\n",
            " [[203 164  87]\n",
            "  [203 164  87]\n",
            "  [204 165  88]\n",
            "  ...\n",
            "  [240 201 122]\n",
            "  [239 200 121]\n",
            "  [239 200 121]]\n",
            "\n",
            " [[203 164  87]\n",
            "  [203 164  87]\n",
            "  [204 165  88]\n",
            "  ...\n",
            "  [241 202 123]\n",
            "  [240 201 122]\n",
            "  [239 200 121]]\n",
            "\n",
            " ...\n",
            "\n",
            " [[153 122  55]\n",
            "  [153 122  55]\n",
            "  [153 122  55]\n",
            "  ...\n",
            "  [  2   2   0]\n",
            "  [  2   2   0]\n",
            "  [  2   2   0]]\n",
            "\n",
            " [[152 121  54]\n",
            "  [152 121  54]\n",
            "  [152 121  54]\n",
            "  ...\n",
            "  [  1   1   0]\n",
            "  [  1   1   0]\n",
            "  [  1   1   0]]\n",
            "\n",
            " [[151 120  53]\n",
            "  [151 120  53]\n",
            "  [152 121  54]\n",
            "  ...\n",
            "  [  1   1   0]\n",
            "  [  1   1   0]\n",
            "  [  1   1   0]]]\n"
          ]
        }
      ]
    },
    {
      "cell_type": "code",
      "source": [
        "#https://keras.io/api/data_loading/image/"
      ],
      "metadata": {
        "id": "G0QPXMxHFONT"
      },
      "execution_count": 31,
      "outputs": []
    },
    {
      "cell_type": "code",
      "source": [
        "from PIL import Image\n",
        "img_gray = Image.open(path).convert('L')\n",
        "img_gray.save('gray0.jpg')\n",
        "#/content/gray0.jpg\n",
        "a= np.asarray(img_gray)\n",
        "print(a)\n",
        "\n"
      ],
      "metadata": {
        "colab": {
          "base_uri": "https://localhost:8080/"
        },
        "id": "vUvWi4HlU-9H",
        "outputId": "8258580e-20f6-4aef-b78c-1aeb37dbfaf6"
      },
      "execution_count": 32,
      "outputs": [
        {
          "output_type": "stream",
          "name": "stdout",
          "text": [
            "[[167 167 168 ... 204 203 202]\n",
            " [167 167 168 ... 204 203 203]\n",
            " [167 167 168 ... 205 204 203]\n",
            " ...\n",
            " [124 124 124 ...   2   2   2]\n",
            " [123 123 123 ...   1   1   1]\n",
            " [122 122 123 ...   1   1   1]]\n"
          ]
        }
      ]
    },
    {
      "cell_type": "code",
      "source": [
        "import cv2"
      ],
      "metadata": {
        "id": "2bCn4Iw8-o1I"
      },
      "execution_count": 33,
      "outputs": []
    },
    {
      "cell_type": "code",
      "source": [
        "img = cv2.imread('/content/drive/MyDrive/Machie_Learning_Project/0.jpg')"
      ],
      "metadata": {
        "id": "EfauTnDw-sze"
      },
      "execution_count": 34,
      "outputs": []
    },
    {
      "cell_type": "code",
      "source": [
        "res = cv2.resize(img, dsize=(54, 140), interpolation=cv2.INTER_CUBIC)"
      ],
      "metadata": {
        "id": "lJ_gANNj-5yp"
      },
      "execution_count": 35,
      "outputs": []
    },
    {
      "cell_type": "code",
      "source": [
        "type(res)"
      ],
      "metadata": {
        "colab": {
          "base_uri": "https://localhost:8080/"
        },
        "id": "Fz1-jaHq-s4m",
        "outputId": "89d48c10-021f-4185-8e64-e7994f25e5e9"
      },
      "execution_count": 36,
      "outputs": [
        {
          "output_type": "execute_result",
          "data": {
            "text/plain": [
              "numpy.ndarray"
            ]
          },
          "metadata": {},
          "execution_count": 36
        }
      ]
    },
    {
      "cell_type": "code",
      "source": [
        "print(res)"
      ],
      "metadata": {
        "colab": {
          "base_uri": "https://localhost:8080/"
        },
        "id": "ciMaYosl-s9R",
        "outputId": "da58c947-0699-4d7d-d945-45f4e17f64d9"
      },
      "execution_count": 37,
      "outputs": [
        {
          "output_type": "stream",
          "name": "stdout",
          "text": [
            "[[[ 91 168 207]\n",
            "  [ 99 176 215]\n",
            "  [103 182 223]\n",
            "  ...\n",
            "  [142 217 249]\n",
            "  [129 210 246]\n",
            "  [121 203 244]]\n",
            "\n",
            " [[ 91 168 207]\n",
            "  [ 99 176 215]\n",
            "  [103 182 223]\n",
            "  ...\n",
            "  [142 217 250]\n",
            "  [131 211 247]\n",
            "  [124 205 243]]\n",
            "\n",
            " [[ 91 168 207]\n",
            "  [100 177 216]\n",
            "  [103 182 223]\n",
            "  ...\n",
            "  [143 218 250]\n",
            "  [133 212 247]\n",
            "  [125 206 243]]\n",
            "\n",
            " ...\n",
            "\n",
            " [[ 58 125 159]\n",
            "  [ 62 129 161]\n",
            "  [ 60 132 166]\n",
            "  ...\n",
            "  [  1   3   3]\n",
            "  [  1   3   3]\n",
            "  [  1   3   3]]\n",
            "\n",
            " [[ 57 124 155]\n",
            "  [ 61 128 159]\n",
            "  [ 59 131 165]\n",
            "  ...\n",
            "  [  1   3   3]\n",
            "  [  1   3   3]\n",
            "  [  1   3   3]]\n",
            "\n",
            " [[ 55 122 153]\n",
            "  [ 60 127 158]\n",
            "  [ 58 130 164]\n",
            "  ...\n",
            "  [  0   1   1]\n",
            "  [  0   1   1]\n",
            "  [  0   1   1]]]\n"
          ]
        }
      ]
    },
    {
      "cell_type": "code",
      "source": [
        "from PIL import Image\n",
        "img  = Image.fromarray(res)"
      ],
      "metadata": {
        "id": "HFJ8dkbaEOnJ"
      },
      "execution_count": 38,
      "outputs": []
    },
    {
      "cell_type": "code",
      "source": [
        "img.save(\"Image_from_array.png\")"
      ],
      "metadata": {
        "id": "Qc-Fq6QfEkCP"
      },
      "execution_count": 39,
      "outputs": []
    }
  ]
}